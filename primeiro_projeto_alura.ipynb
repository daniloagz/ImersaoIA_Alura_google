{
  "nbformat": 4,
  "nbformat_minor": 0,
  "metadata": {
    "colab": {
      "provenance": [],
      "authorship_tag": "ABX9TyMjRUkqvjhRymaRoRMz6AFc",
      "include_colab_link": true
    },
    "kernelspec": {
      "name": "python3",
      "display_name": "Python 3"
    },
    "language_info": {
      "name": "python"
    }
  },
  "cells": [
    {
      "cell_type": "markdown",
      "metadata": {
        "id": "view-in-github",
        "colab_type": "text"
      },
      "source": [
        "<a href=\"https://colab.research.google.com/github/daniloagz/ImersaoIA_Alura_google/blob/main/primeiro_projeto_alura.ipynb\" target=\"_parent\"><img src=\"https://colab.research.google.com/assets/colab-badge.svg\" alt=\"Open In Colab\"/></a>"
      ]
    },
    {
      "cell_type": "code",
      "source": [],
      "metadata": {
        "id": "N6QhgBBuAqx7"
      },
      "execution_count": null,
      "outputs": []
    },
    {
      "cell_type": "markdown",
      "source": [
        "instalando o SDK do Google"
      ],
      "metadata": {
        "id": "6YnzpCTJAgXK"
      }
    },
    {
      "cell_type": "code",
      "execution_count": null,
      "metadata": {
        "id": "VBWUQ1P8AYYZ"
      },
      "outputs": [],
      "source": [
        "!pip install -q -U google-generativeai"
      ]
    },
    {
      "cell_type": "code",
      "source": [
        "\n",
        "import google.generativeai as genai\n",
        "GOOGLE_API_KEY=\"\"\n",
        "genai.configure(api_key=GOOGLE_API_KEY)"
      ],
      "metadata": {
        "id": "6QwHKOxwA0rp"
      },
      "execution_count": null,
      "outputs": []
    },
    {
      "cell_type": "code",
      "source": [
        "for m in genai.list_models():\n",
        "  if 'generateContent' in m.supported_generation_methods:\n",
        "    print(m.name)"
      ],
      "metadata": {
        "colab": {
          "base_uri": "https://localhost:8080/",
          "height": 139
        },
        "id": "UvvUJ214BOmA",
        "outputId": "460755d0-7534-4159-9bdb-18a89387c5de"
      },
      "execution_count": null,
      "outputs": [
        {
          "output_type": "stream",
          "name": "stdout",
          "text": [
            "models/gemini-1.0-pro\n",
            "models/gemini-1.0-pro-001\n",
            "models/gemini-1.0-pro-latest\n",
            "models/gemini-1.0-pro-vision-latest\n",
            "models/gemini-1.5-pro-latest\n",
            "models/gemini-pro\n",
            "models/gemini-pro-vision\n"
          ]
        }
      ]
    },
    {
      "cell_type": "code",
      "source": [
        "generation_config = {\n",
        "    \"candidate_count\": 1,\n",
        "    \"temperature\": 0.5\n",
        "}"
      ],
      "metadata": {
        "id": "fd9aHQblDKtW"
      },
      "execution_count": null,
      "outputs": []
    },
    {
      "cell_type": "code",
      "source": [
        "safety_settings = {\n",
        "    \"harassment\": \"BLOCK_NONE\",\n",
        "    \"hate\": \"BLOCK_NONE\",\n",
        "    \"dangerous\": \"BLOCK_NONE\",\n",
        "}"
      ],
      "metadata": {
        "id": "Bbg06bs2G_ii"
      },
      "execution_count": null,
      "outputs": []
    },
    {
      "cell_type": "markdown",
      "source": [
        "inicializando o modelo"
      ],
      "metadata": {
        "id": "8y9bZ6O_H_VA"
      }
    },
    {
      "cell_type": "code",
      "source": [
        "model = genai.GenerativeModel(model_name=\"gemini-1.0-pro\",\n",
        "                              generation_config=generation_config,\n",
        "                              safety_settings=safety_settings)"
      ],
      "metadata": {
        "id": "lyxSbTJZIBWX"
      },
      "execution_count": null,
      "outputs": []
    },
    {
      "cell_type": "code",
      "source": [
        "response = model.generate_content(\"De sugestoes sobre aprendizado de IA\")\n",
        "print(response)"
      ],
      "metadata": {
        "colab": {
          "base_uri": "https://localhost:8080/",
          "height": 141
        },
        "id": "fQWF8_mEJAJ_",
        "outputId": "ff7a087c-5f90-4386-f1e8-4f3a8335be14"
      },
      "execution_count": null,
      "outputs": [
        {
          "output_type": "stream",
          "name": "stdout",
          "text": [
            "response:\n",
            "GenerateContentResponse(\n",
            "    done=True,\n",
            "    iterator=None,\n",
            "    result=glm.GenerateContentResponse({'candidates': [{'content': {'parts': [{'text': '**Recursos Online:**\\n\\n* **Coursera:** Cursos abrangentes de IA de universidades de renome, como Stanford e Google.\\n* **edX:** Cursos gratuitos e pagos de IA oferecidos por instituições como MIT e Harvard.\\n* **Udemy:** Cursos de IA para iniciantes e avançados, ministrados por especialistas da indústria.\\n* **Kaggle:** Plataforma de aprendizado de IA com competições, tutoriais e conjuntos de dados.\\n* **Google AI:** Cursos e certificações gratuitos sobre conceitos e aplicações de IA.\\n\\n**Livros e Publicações:**\\n\\n* **Inteligência Artificial: Uma Abordagem Moderna (Stuart Russell e Peter Norvig)**\\n* **Aprendizado de Máquina (Tom Mitchell)**\\n* **Aprendizado Profundo (Ian Goodfellow, Yoshua Bengio e Aaron Courville)**\\n* **IA para todos (Andrew Ng)**\\n* **Visão Computacional (Richard Szeliski)**\\n\\n**Projetos Práticos:**\\n\\n* **Participe de competições de IA:** Kaggle e outros sites oferecem desafios práticos para testar suas habilidades.\\n* **Construa projetos de IA:** Crie seus próprios projetos usando bibliotecas como TensorFlow, PyTorch ou scikit-learn.\\n* **Contribua para projetos de código aberto:** Envolva-se em projetos de IA de código aberto para obter experiência prática.\\n\\n**Comunidades e Fóruns:**\\n\\n* **Stack Overflow:** Fórum popular para perguntas e respostas relacionadas a IA.\\n* **Reddit:** Subreddits como r/MachineLearning e r/ArtificialIntelligence fornecem discussões e recursos.\\n* **Meetups e Eventos:** Participe de meetups e conferências locais para se conectar com outros entusiastas de IA.\\n\\n**Dicas Adicionais:**\\n\\n* **Comece com o básico:** Compreenda os conceitos fundamentais de IA, como aprendizado de máquina e aprendizado profundo.\\n* **Escolha um caminho:** Concentre-se em uma área específica da IA, como visão computacional ou processamento de linguagem natural.\\n* **Pratique regularmente:** A prática consistente é crucial para dominar as habilidades de IA.\\n* **Mantenha-se atualizado:** A IA está em constante evolução, então fique por dentro das últimas tendências e tecnologias.\\n* **Procure orientação:** Encontre um mentor ou professor que possa fornecer suporte e orientação.'}], 'role': 'model'}, 'finish_reason': 1, 'index': 0, 'safety_ratings': [{'category': 9, 'probability': 1, 'blocked': False}, {'category': 8, 'probability': 1, 'blocked': False}, {'category': 7, 'probability': 1, 'blocked': False}, {'category': 10, 'probability': 1, 'blocked': False}], 'token_count': 0, 'grounding_attributions': []}]}),\n",
            ")\n"
          ]
        }
      ]
    },
    {
      "cell_type": "code",
      "source": [
        "chat = model.start_chat(history=[])"
      ],
      "metadata": {
        "id": "z5iZv0cyJSb5"
      },
      "execution_count": null,
      "outputs": []
    },
    {
      "cell_type": "code",
      "source": [
        "prompt = input(\"esperando prompt...\")\n",
        "while prompt != \"fim\":\n",
        "  response = chat.send_message(prompt)\n",
        "  print(\"Resposta: \", response.text, \"\\n\")\n",
        "  prompt = input(\"esperando prompt...\")"
      ],
      "metadata": {
        "colab": {
          "base_uri": "https://localhost:8080/",
          "height": 86
        },
        "id": "CVWYApDvJwN3",
        "outputId": "584c3e02-458c-40cb-eb7d-fd995392a6e4"
      },
      "execution_count": null,
      "outputs": [
        {
          "name": "stdout",
          "output_type": "stream",
          "text": [
            "esperando prompt...qual capital de Sao Paulo?\n",
            "Resposta:  São Paulo \n",
            "\n",
            "esperando prompt...fim\n"
          ]
        }
      ]
    }
  ]
}