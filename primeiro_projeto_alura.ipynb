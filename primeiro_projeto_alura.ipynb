{
  "nbformat": 4,
  "nbformat_minor": 0,
  "metadata": {
    "colab": {
      "provenance": [],
      "authorship_tag": "ABX9TyPQT/kQwjdIedovq+pDrZow",
      "include_colab_link": true
    },
    "kernelspec": {
      "name": "python3",
      "display_name": "Python 3"
    },
    "language_info": {
      "name": "python"
    }
  },
  "cells": [
    {
      "cell_type": "markdown",
      "metadata": {
        "id": "view-in-github",
        "colab_type": "text"
      },
      "source": [
        "<a href=\"https://colab.research.google.com/github/daniloagz/ImersaoIA_Alura_google/blob/main/primeiro_projeto_alura.ipynb\" target=\"_parent\"><img src=\"https://colab.research.google.com/assets/colab-badge.svg\" alt=\"Open In Colab\"/></a>"
      ]
    },
    {
      "cell_type": "code",
      "source": [],
      "metadata": {
        "id": "N6QhgBBuAqx7"
      },
      "execution_count": 12,
      "outputs": []
    },
    {
      "cell_type": "markdown",
      "source": [
        "instalando o SDK do Google"
      ],
      "metadata": {
        "id": "6YnzpCTJAgXK"
      }
    },
    {
      "cell_type": "code",
      "execution_count": 13,
      "metadata": {
        "id": "VBWUQ1P8AYYZ"
      },
      "outputs": [],
      "source": [
        "!pip install -q -U google-generativeai"
      ]
    },
    {
      "cell_type": "code",
      "source": [
        "\n",
        "import google.generativeai as genai\n",
        "from google.colab import userdata\n",
        "api_key = userdata.get(\"SECRET_KEY\")\n",
        "\n",
        "genai.configure(api_key=api_key)"
      ],
      "metadata": {
        "id": "6QwHKOxwA0rp"
      },
      "execution_count": 14,
      "outputs": []
    },
    {
      "cell_type": "code",
      "source": [
        "for m in genai.list_models():\n",
        "  if 'generateContent' in m.supported_generation_methods:\n",
        "    print(m.name)"
      ],
      "metadata": {
        "colab": {
          "base_uri": "https://localhost:8080/",
          "height": 139
        },
        "id": "UvvUJ214BOmA",
        "outputId": "80e339aa-efa6-46c1-80fb-7a57a7d5d648"
      },
      "execution_count": 15,
      "outputs": [
        {
          "output_type": "stream",
          "name": "stdout",
          "text": [
            "models/gemini-1.0-pro\n",
            "models/gemini-1.0-pro-001\n",
            "models/gemini-1.0-pro-latest\n",
            "models/gemini-1.0-pro-vision-latest\n",
            "models/gemini-1.5-pro-latest\n",
            "models/gemini-pro\n",
            "models/gemini-pro-vision\n"
          ]
        }
      ]
    },
    {
      "cell_type": "code",
      "source": [
        "generation_config = {\n",
        "    \"candidate_count\": 1,\n",
        "    \"temperature\": 0.5\n",
        "}"
      ],
      "metadata": {
        "id": "fd9aHQblDKtW"
      },
      "execution_count": 16,
      "outputs": []
    },
    {
      "cell_type": "code",
      "source": [
        "safety_settings = {\n",
        "    \"harassment\": \"BLOCK_NONE\",\n",
        "    \"hate\": \"BLOCK_NONE\",\n",
        "    \"dangerous\": \"BLOCK_NONE\",\n",
        "}"
      ],
      "metadata": {
        "id": "Bbg06bs2G_ii"
      },
      "execution_count": 17,
      "outputs": []
    },
    {
      "cell_type": "markdown",
      "source": [
        "inicializando o modelo"
      ],
      "metadata": {
        "id": "8y9bZ6O_H_VA"
      }
    },
    {
      "cell_type": "code",
      "source": [
        "model = genai.GenerativeModel(model_name=\"gemini-1.0-pro\",\n",
        "                              generation_config=generation_config,\n",
        "                              safety_settings=safety_settings)"
      ],
      "metadata": {
        "id": "lyxSbTJZIBWX"
      },
      "execution_count": 18,
      "outputs": []
    },
    {
      "cell_type": "code",
      "source": [
        "response = model.generate_content(\"De sugestoes sobre aprendizado de IA\")\n",
        "print(response)"
      ],
      "metadata": {
        "colab": {
          "base_uri": "https://localhost:8080/",
          "height": 141
        },
        "id": "fQWF8_mEJAJ_",
        "outputId": "698eff93-fd3e-4ea1-db49-a97c91b8afa3"
      },
      "execution_count": 19,
      "outputs": [
        {
          "output_type": "stream",
          "name": "stdout",
          "text": [
            "response:\n",
            "GenerateContentResponse(\n",
            "    done=True,\n",
            "    iterator=None,\n",
            "    result=glm.GenerateContentResponse({'candidates': [{'content': {'parts': [{'text': '**Recursos Online:**\\n\\n* **Coursera:** Cursos de IA de universidades de renome, como Stanford e Johns Hopkins.\\n* **edX:** Cursos de IA da Microsoft, IBM e outras empresas líderes.\\n* **Udemy:** Cursos de IA para iniciantes e avançados.\\n* **YouTube:** Canais como Khan Academy, 3Blue1Brown e Siraj Raval oferecem tutoriais em vídeo abrangentes.\\n* **Kaggle:** Comunidade online para aprendizado de IA por meio de competições e conjuntos de dados.\\n\\n**Livros e Publicações:**\\n\\n* **Inteligência Artificial: Uma Abordagem Moderna** por Stuart Russell e Peter Norvig\\n* **Aprendizado de Máquina** por Tom Mitchell\\n* **Aprendizado Profundo** por Ian Goodfellow, Yoshua Bengio e Aaron Courville\\n* **Redes Neurais e Aprendizado Profundo** por Michael Nielsen\\n* **Artificial Intelligence for Dummies** por John Paul Mueller e Luca Massaron\\n\\n**Comunidades e Fóruns:**\\n\\n* **Reddit r/artificialintelligence:** Fórum ativo para discussões e perguntas sobre IA.\\n* **Stack Overflow:** Site de perguntas e respostas para programadores, incluindo tópicos de IA.\\n* **Discord:** Servidores dedicados à IA, onde você pode se conectar com outros alunos e especialistas.\\n* **Meetups:** Eventos presenciais para networking e aprendizado sobre IA.\\n\\n**Projetos Práticos:**\\n\\n* **Construa um chatbot:** Implemente um chatbot simples usando bibliotecas como NLTK ou spaCy.\\n* **Treine um modelo de classificação de imagem:** Use TensorFlow ou PyTorch para treinar um modelo para classificar imagens.\\n* **Analise dados de sentimento:** Use algoritmos de processamento de linguagem natural para extrair sentimento de texto.\\n* **Crie um jogo de IA:** Desenvolva um jogo simples que use técnicas de IA, como busca de caminho ou aprendizado por reforço.\\n\\n**Dicas Adicionais:**\\n\\n* **Comece com o básico:** Aprenda os conceitos fundamentais de IA, como aprendizado de máquina, redes neurais e processamento de linguagem natural.\\n* **Pratique regularmente:** A prática é essencial para o aprendizado de IA. Tente resolver problemas e construir projetos.\\n* **Participe de competições:** As competições podem fornecer motivação e feedback para seu aprendizado.\\n* **Mantenha-se atualizado:** O campo da IA está em constante evolução. Fique atento às últimas tendências e pesquisas.\\n* **Conecte-se com especialistas:** Participe de conferências, workshops e grupos de estudo para aprender com especialistas e construir sua rede.'}], 'role': 'model'}, 'finish_reason': 1, 'index': 0, 'safety_ratings': [{'category': 9, 'probability': 1, 'blocked': False}, {'category': 8, 'probability': 1, 'blocked': False}, {'category': 7, 'probability': 1, 'blocked': False}, {'category': 10, 'probability': 1, 'blocked': False}], 'token_count': 0, 'grounding_attributions': []}]}),\n",
            ")\n"
          ]
        }
      ]
    },
    {
      "cell_type": "code",
      "source": [
        "chat = model.start_chat(history=[])"
      ],
      "metadata": {
        "id": "z5iZv0cyJSb5"
      },
      "execution_count": 20,
      "outputs": []
    },
    {
      "cell_type": "code",
      "source": [
        "prompt = input(\"esperando prompt...\")\n",
        "while prompt != \"fim\":\n",
        "  response = chat.send_message(prompt)\n",
        "  print(\"Resposta: \", response.text, \"\\n\")\n",
        "  prompt = input(\"esperando prompt...\")"
      ],
      "metadata": {
        "colab": {
          "base_uri": "https://localhost:8080/",
          "height": 86
        },
        "id": "CVWYApDvJwN3",
        "outputId": "a4ee7d3b-360d-4b3e-bd47-1fcccd5419ae"
      },
      "execution_count": 21,
      "outputs": [
        {
          "name": "stdout",
          "output_type": "stream",
          "text": [
            "esperando prompt...qual a media de consumo de água por pessoa em um mes?\n",
            "Resposta:  Cerca de 100 a 150 litros por dia, o que equivale a aproximadamente **3.000 a 4.500 litros por mês**. \n",
            "\n",
            "esperando prompt...fim\n"
          ]
        }
      ]
    }
  ]
}